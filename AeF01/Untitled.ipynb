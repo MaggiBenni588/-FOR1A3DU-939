{
 "cells": [
  {
   "cell_type": "code",
   "execution_count": null,
   "metadata": {
    "collapsed": true
   },
   "outputs": [],
   "source": [
    "#Sigríður Sturlaugsdóttir\n",
    "#17.01.2017\n",
    "#1B Æfingarverkefni"
   ]
  },
  {
   "cell_type": "code",
   "execution_count": null,
   "metadata": {
    "collapsed": true
   },
   "outputs": [],
   "source": [
    "# Liður A\n",
    "\n",
    "karl = \"Páll\"\n",
    "kona = \"Stínu\"\n",
    "kronur = 25959\n",
    "skonumer = 38\n",
    "\n",
    "print(karl, \"keypti skó númer\", skonumer, \"fyrir\", kona, \"sem kostuðu\", kronur)\n",
    "# skónúmer hækkað\n",
    "skonumer = skonumer+2\n",
    "\n",
    "print(\"En þá mundi hann að hún notar skó númer:\", skonumer)\n"
   ]
  },
  {
   "cell_type": "code",
   "execution_count": null,
   "metadata": {
    "collapsed": true
   },
   "outputs": [],
   "source": [
    "# Liður B\n",
    "#Notandi beðinn um tölur, tökum tölurnar inn sem heiltölur/int\n",
    "tala1 = int(input(\"Sláðu inn tölu 1 \"))\n",
    "tala2 = int(input(\"Sláðu inn tölu 2 \"))\n",
    "tala3 = int(input(\"Sláðu inn tölu 3 \"))\n",
    "\n",
    "print(\"Fyrsta talan er: \", tala1)\n",
    "print(\"Önnur talan er: \", tala2)\n",
    "print(\"Þriðja talan er: \", tala3)\n",
    "\n",
    "#Reiknum það sem við þurfum og setjum útkomuna í breytur með lýsandi nöfn\n",
    "summa = tala1+tala2+tala3\n",
    "margfeldi = tala1*tala2*tala3\n",
    "minus = tala1-tala2-tala3\n",
    "\n",
    "#Prentum út útkomuna\n",
    "print(\"Summa talnanna er: \", summa)\n",
    "print(\"Margfeldi talnanna er: \", margfeldi)\n",
    "print(\"Frádráttur talnanna er: \", minus)"
   ]
  }
 ],
 "metadata": {
  "kernelspec": {
   "display_name": "Python 3",
   "language": "python",
   "name": "python3"
  },
  "language_info": {
   "codemirror_mode": {
    "name": "ipython",
    "version": 3
   },
   "file_extension": ".py",
   "mimetype": "text/x-python",
   "name": "python",
   "nbconvert_exporter": "python",
   "pygments_lexer": "ipython3",
   "version": "3.5.2"
  }
 },
 "nbformat": 4,
 "nbformat_minor": 1
}
