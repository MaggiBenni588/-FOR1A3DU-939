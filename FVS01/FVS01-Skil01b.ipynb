{
 "cells": [
  {
   "cell_type": "code",
   "execution_count": null,
   "metadata": {
    "collapsed": true
   },
   "outputs": [],
   "source": [
    "# Magnús Benedikt Guðjónsson\n",
    "# 2017-01-29\n",
    "# FVS01-Skil01b Skilaverkfni 1"
   ]
  },
  {
   "cell_type": "markdown",
   "metadata": {},
   "source": [
    "***Skilaverkefni 1 ***\n",
    "\n",
    "Verkefnið gildir 10% af lokaeinkunn og gilda allir liðir verkefnisins jafnt\n",
    "\n",
    "**\\# muna að kommenta verkefnið VEL – einkunn verður lækkuð um tvo heila ef ekki er nægjanlega vel kommentað**\n",
    "\n",
    "Í þessu verkefni eru nokkrir liðir, settu \\#comment sem afmarkar hvern lið."
   ]
  },
  {
   "cell_type": "markdown",
   "metadata": {},
   "source": [
    "***\\#Liður 1 Notandi:***\n",
    "\n",
    "Forritið biður um nafn notanda og skrifar síðan út:\n",
    "\n",
    "\"**Velkomin í áfangann FOR1TÖ3AU** “ síðan *nafn notand*a og síðan \". **Þetta verður** **skemmtileg önn, ég hlakka til að læra forritun.\"**"
   ]
  },
  {
   "cell_type": "code",
   "execution_count": 60,
   "metadata": {
    "collapsed": false
   },
   "outputs": [
    {
     "name": "stdout",
     "output_type": "stream",
     "text": [
      "Ritaðu inn nafnið þitt: Magnús Benedikt Guðjónsson\n",
      "Velkomin í áfangann FOR1TÖ3AU Magnús Benedikt Guðjónsson. Þetta verður skemmtileg önn, ég hlakka til að læra forritun.\n"
     ]
    }
   ],
   "source": [
    "print('#Liður 1 Notandi:')\n",
    "notendaNafn = input('Ritaðu inn nafnið þitt: ')\n",
    "print (\"Velkomin í áfangann FOR1TÖ3AU \" + notendaNafn + \". Þetta verður skemmtileg önn, ég hlakka til að læra forritun.\")"
   ]
  },
  {
   "cell_type": "markdown",
   "metadata": {},
   "source": [
    "***\\#Liður 2 Formatta kommutölu:***\n",
    "\n",
    "Forritið biður notanda að slá inn kommutölu með þrem aukastöfum og svarar síðan ”**Þú hefur valið töluna**: ” og síðan birtist talan sem slegin var inn með **einum aukastaf**."
   ]
  },
  {
   "cell_type": "code",
   "execution_count": 12,
   "metadata": {
    "collapsed": false
   },
   "outputs": [
    {
     "name": "stdout",
     "output_type": "stream",
     "text": [
      "Liður 2 Formatta kommutölu:\n",
      "Sláðu inn kommutölu með þrem aukastöfum (notaðu . í stað ,): 1\n",
      "Þú hefur valið töluna: 1.0\n"
     ]
    }
   ],
   "source": [
    "print('#Liður 2 Formatta kommutölu:')\n",
    "kommutala = float(input('Sláðu inn kommutölu með þrem aukastöfum (notaðu . í stað ,): '))\n",
    "print('Þú hefur valið töluna: ' + str(format(kommutala, '.1f')))"
   ]
  },
  {
   "cell_type": "markdown",
   "metadata": {},
   "source": [
    "***\\#Liður 3 - Reikniaðgerðir:***\n",
    "\n",
    "Forritið biður um tvær heiltölur, það á síðan að margfalda þessar tvær tölur saman og birta útkomuna á skjáinn.\n",
    "\n",
    "Svo á forritið að draga fyrri töluna sem sleginn var inn frá þeirri seinni og skrifa þá útkomu á skjáinn."
   ]
  },
  {
   "cell_type": "code",
   "execution_count": 34,
   "metadata": {
    "collapsed": false
   },
   "outputs": [
    {
     "name": "stdout",
     "output_type": "stream",
     "text": [
      "Sláðu inn heiltölu 1: 5\n",
      "Sláðu inn heiltölu 2: 6\n",
      "Margfaldaðar saman gerir: 30\n",
      "Mismunur þeirra er: 1\n"
     ]
    }
   ],
   "source": [
    "print('#Liður 3 - Reikniaðgerðir:')\n",
    "heiltala1 = float(input('Sláðu inn heiltölu 1: '))\n",
    "heiltala2 = float(input('Sláðu inn heiltölu 2: '))\n",
    "print('Margfaldaðar saman gerir: ' + str(format((heiltala1 * heiltala2), 'n')))\n",
    "print('Mismunur þeirra er: ' + str(format((heiltala2 - heiltala1), 'n')))"
   ]
  },
  {
   "cell_type": "markdown",
   "metadata": {},
   "source": [
    "***\\#Liður 4- Meðalaldur:***\n",
    "\n",
    "Hannið forrit sem biður um aldur á þremur einstaklingum. Síðan á forritið að reikna út meðalaldur þeirra og birta hann með einum aukastaf"
   ]
  },
  {
   "cell_type": "code",
   "execution_count": 48,
   "metadata": {
    "collapsed": false
   },
   "outputs": [
    {
     "name": "stdout",
     "output_type": "stream",
     "text": [
      "Sláðu inn aldur á einstakling 1: 5\n",
      "Sláðu inn aldur á einstakling 2: 5\n",
      "Sláðu inn aldur á einstakling 3: 6\n",
      "Meðalaldur þeirra er: 5.3\n",
      "Meðalaldur þeirra reiknaður á annan hátt er: 5.3\n"
     ]
    }
   ],
   "source": [
    "print('#Liður 4- Meðalaldur:')\n",
    "einstaklingur1 = float(input('Sláðu inn aldur á einstakling 1: '))\n",
    "einstaklingur2 = float(input('Sláðu inn aldur á einstakling 2: '))\n",
    "einstaklingur3 = float(input('Sláðu inn aldur á einstakling 3: '))\n",
    "medaltal = ((einstaklingur1 + einstaklingur2 + einstaklingur3)/3)\n",
    "print('Meðalaldur þeirra er: ' + format(medaltal, '.1f'))\n",
    "print('Meðalaldur þeirra reiknaður á annan hátt er: ' + format(((einstaklingur1 + einstaklingur2 + einstaklingur3)/3), '.1f'))"
   ]
  },
  {
   "cell_type": "markdown",
   "metadata": {},
   "source": [
    "***\\#Liður 5 Minnsta talan:***\n",
    "\n",
    "\\#Hérna notum við skilyrðissetningur (if-elif-else)\n",
    "\n",
    "Forritið spyr um þrjár heiltölur.\n",
    "\n",
    "Passa að ekki sé slegin inn sama tala tvisvar sinnum.\n",
    "\n",
    "Forritið skrifar síðan út hver talnanna er í miðjunni."
   ]
  },
  {
   "cell_type": "code",
   "execution_count": 10,
   "metadata": {
    "collapsed": false
   },
   "outputs": [
    {
     "name": "stdout",
     "output_type": "stream",
     "text": [
      "Sláðu inn heiltölu 1: 1\n",
      "Sláðu inn heiltölu 2: 2\n",
      "Sláðu inn heiltölu 3: 3\n",
      "\n",
      "Minnsta talan er: 1\n",
      "Stæðsta talan er: 3\n",
      "Talan í miðjunni er: 2\n"
     ]
    }
   ],
   "source": [
    "# Það er óljóst hvort þessi liður á að skila minnstu tölunni eða tölunni í miðjunni. \n",
    "# Ákvað því að gera bæði og stæðstu tölunni að auki.\n",
    "\n",
    "print('#Liður 5 Minnsta talan:')\n",
    "\n",
    "heiltala1 = int(input('Sláðu inn heiltölu 1: '))\n",
    "\n",
    "heiltala2 = int(input('Sláðu inn heiltölu 2: '))\n",
    "if heiltala1 == heiltala2:\n",
    "    print('Heiltala 2 má ekki vera sú sama og heiltala 1.') \n",
    "    heiltala2 = int(input('Sláðu inn aðra tölu fyrir heiltölu 2: '))\n",
    "\n",
    "heiltala3 = int(input('Sláðu inn heiltölu 3: '))\n",
    "if heiltala3 == heiltala1 or heiltala3 == heiltala2:\n",
    "    print('Það má ekki nota sömu heiltölu oft við keyrslu þessa forrits.')\n",
    "    heiltala3 = int(input('Sláðu inn aðra tölu fyrir heiltölu 3: '))\n",
    "\n",
    "if heiltala3 == heiltala1 or heiltala3 == heiltala2 or heiltala1 == heiltala2:\n",
    "    print('Það má ekki nota sömu heiltölu oft við keyrslu þessa forrits. Vinsamlega byrjaðu upp á nýtt.')\n",
    "else:\n",
    "    # prenta auða línu á milli inntaks og úttaks.\n",
    "    print()\n",
    "    \n",
    "    minnstaTala = heiltala1\n",
    "    if heiltala2 < heiltala1:\n",
    "        minnstaTala = heiltala2\n",
    "    if heiltala3 < minnstaTala:\n",
    "        minnstaTala = heiltala3\n",
    "\n",
    "    print('Minnsta talan er:', minnstaTala)\n",
    "\n",
    "    staedstaTala = heiltala1\n",
    "    if heiltala2 > heiltala1:\n",
    "        staedstaTala = heiltala2\n",
    "    if heiltala3 > staedstaTala:\n",
    "        staedstaTala = heiltala3\n",
    "    \n",
    "    # Það væri hægt að sleppa næstu línu (kommenta út/eyða) \n",
    "    # ef ekki mætti sjást að stæðsta talan er notuð til að\n",
    "    # finna þá sem er í miðjunni.\n",
    "    print('Stæðsta talan er:', staedstaTala)\n",
    "\n",
    "    if heiltala1 != minnstaTala and heiltala1 != staedstaTala:\n",
    "        midjuTala = heiltala1\n",
    "    if heiltala2 != minnstaTala and heiltala2 != staedstaTala:\n",
    "        midjuTala = heiltala2\n",
    "    if heiltala3 != minnstaTala and heiltala3 != staedstaTala:\n",
    "        midjuTala = heiltala3\n",
    "\n",
    "    print('Talan í miðjunni er:', midjuTala)"
   ]
  },
  {
   "cell_type": "markdown",
   "metadata": {},
   "source": [
    "***\\#Liður 6 - Árstíðir:***\n",
    "\n",
    "\\#Hérna notum við skilyrðissetningur (if-elif-else)\n",
    "\n",
    "Forritið spyr um númer mánaðar. Forritið skrifar síðan út eftirfarandi:\n",
    "\n",
    "Ef sleginn er inn talan 1‐3 skrifast út **”Nú er daginn tekið að lengja.”**\n",
    "\n",
    "Ef sleginn er inn talan 4‐5 skrifast út **”Vorið er komið og grundirnar gróa.”**\n",
    "\n",
    "Ef sleginn er inn talan 6‐8 skrifast út **”Núna er sumarið komið með blóm í haga.”**\n",
    "\n",
    "Ef sleginn er inn talan 9‐10 skrifast út **”Núna er haustið gengið í garð.”**\n",
    "\n",
    "Ef sleginn er inn talan 11‐12 **”Núna styttist í jólin”**\n",
    "\n",
    "Ef sleginn er inn talan sem er 0 eða minni eða 13 og hærri á að skrifa **“Rangur innsláttur”.**"
   ]
  },
  {
   "cell_type": "code",
   "execution_count": 34,
   "metadata": {
    "collapsed": false
   },
   "outputs": [
    {
     "name": "stdout",
     "output_type": "stream",
     "text": [
      "Sláðu inn númer mánaðar: 1\n",
      "Nú er daginn tekið að lengja.\n"
     ]
    }
   ],
   "source": [
    "print('#Liður 6 - Árstíðir:')\n",
    "numerMandadar = int(input('Sláðu inn númer mánaðar: '))\n",
    "\n",
    "if numerMandadar >= 1 and numerMandadar <= 3:\n",
    "    print('Nú er daginn tekið að lengja.')\n",
    "if numerMandadar >= 4 and numerMandadar <= 5:\n",
    "    print('Vorið er komið og grundirnar gróa.')\n",
    "if numerMandadar >= 6 and numerMandadar <= 8:\n",
    "    print('Núna er sumarið komið með blóm í haga.')\n",
    "if numerMandadar >= 9 and numerMandadar <= 10:\n",
    "    print('Núna er haustið gengið í garð.')\n",
    "if numerMandadar >= 11 and numerMandadar <= 12:\n",
    "    print('Núna styttist í jólin.')\n",
    "if numerMandadar <= 0 or numerMandadar >= 13:\n",
    "    print('Rangur innsláttur.')"
   ]
  },
  {
   "cell_type": "markdown",
   "metadata": {},
   "source": [
    "**\\# Lidur 7:Talnabil**\n",
    "\n",
    "\\#Hérna notum við skilyrðissetningur (if-elif-else)\n",
    "\n",
    "Forritið biður notanda um tölu sem er lægri en 0 eða hærri en 10.\n",
    "\n",
    "Ef notandi slær inn tölu frá 0 til 10 (að þeim meðtöldum) birtist \"Þessi tala er ekki lægri en núll eða hærri en 10\". Annars svarar forritið \"Vel gert!\"."
   ]
  },
  {
   "cell_type": "code",
   "execution_count": 11,
   "metadata": {
    "collapsed": false
   },
   "outputs": [
    {
     "name": "stdout",
     "output_type": "stream",
     "text": [
      "Lidur 7:Talnabil\n",
      "Sláðu inn tölu sem er lægri en 0 eða hærri en 10: 1\n",
      "Þessi tala er ekki lægri en núll eða hærri en 10\n"
     ]
    }
   ],
   "source": [
    "print('#Lidur 7:Talnabil')\n",
    "innTala = float(input('Sláðu inn tölu sem er lægri en 0 eða hærri en 10: '))\n",
    "if (innTala >= 0 and innTala <= 10):\n",
    "    print('Þessi tala er ekki lægri en núll eða hærri en 10')\n",
    "else: print('Vel gert!')"
   ]
  },
  {
   "cell_type": "markdown",
   "metadata": {},
   "source": [
    "***\\#Liður 8 að kveðja:***\n",
    "\n",
    "Að lokum birtist á skjánum:\n",
    "\n",
    "**Gaman að geta aðstoðað þig við þessa útreikninga ** *-nafn notandans-* **. **"
   ]
  },
  {
   "cell_type": "code",
   "execution_count": 61,
   "metadata": {
    "collapsed": false
   },
   "outputs": [
    {
     "name": "stdout",
     "output_type": "stream",
     "text": [
      "Gaman að geta aðstoðað þig við þessa útreikninga Magnús Benedikt Guðjónsson.\n"
     ]
    }
   ],
   "source": [
    "print('#Liður 8 að kveðja:')\n",
    "\n",
    "print (\"Gaman að geta aðstoðað þig við þessa útreikninga \" + notendaNafn + \".\")"
   ]
  }
 ],
 "metadata": {
  "kernelspec": {
   "display_name": "Python 3",
   "language": "python",
   "name": "python3"
  },
  "language_info": {
   "codemirror_mode": {
    "name": "ipython",
    "version": 3
   },
   "file_extension": ".py",
   "mimetype": "text/x-python",
   "name": "python",
   "nbconvert_exporter": "python",
   "pygments_lexer": "ipython3",
   "version": "3.5.2"
  }
 },
 "nbformat": 4,
 "nbformat_minor": 1
}
